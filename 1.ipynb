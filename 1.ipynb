{
 "cells": [
  {
   "cell_type": "code",
   "execution_count": 4,
   "metadata": {
    "collapsed": true
   },
   "outputs": [
    {
     "name": "stdout",
     "output_type": "stream",
     "text": [
      "Count is: 5\n",
      "Average: 3.0\n",
      "Max: 5\n",
      "Min: 1\n",
      "Sorted: [5, 4, 3, 2, 1]\n"
     ]
    }
   ],
   "source": [
    "a=[]\n",
    "while True:\n",
    "    b=int(input())\n",
    "    if b==-1:\n",
    "        break\n",
    "    a.append(b)\n",
    "\n",
    "print('Count is:',len(a))\n",
    "print('Average:',sum(a)/len(a))\n",
    "print('Max:',max(a))\n",
    "print('Min:',min(a))\n",
    "print('Sorted:',sorted(a,reverse=True))"
   ]
  }
 ],
 "metadata": {
  "kernelspec": {
   "display_name": "Python 3",
   "language": "python",
   "name": "python3"
  },
  "language_info": {
   "codemirror_mode": {
    "name": "ipython",
    "version": 2
   },
   "file_extension": ".py",
   "mimetype": "text/x-python",
   "name": "python",
   "nbconvert_exporter": "python",
   "pygments_lexer": "ipython2",
   "version": "2.7.6"
  }
 },
 "nbformat": 4,
 "nbformat_minor": 0
}
