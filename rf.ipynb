{
 "cells": [
  {
   "cell_type": "code",
   "execution_count": null,
   "outputs": [],
   "source": [
    "import pandas as pd\n",
    "import numpy as np\n",
    "from IPython.display import display\n",
    "from sklearn.preprocessing import MinMaxScaler,Normalizer\n",
    "import torch\n",
    "import torch.nn as nn\n",
    "import torch.optim as optim\n",
    "from torch.utils.data import DataLoader,Dataset\n",
    "import datetime\n",
    "from sklearn.utils import shuffle\n",
    "from sklearn.model_selection import train_test_split\n",
    "import seaborn as sns\n",
    "import matplotlib.pyplot as plt\n",
    "import time\n",
    "df1=pd.read_csv('data_cl.csv')\n",
    "df2=pd.read_csv('data_com.csv')\n",
    "df3=pd.read_csv('data_feature.csv')"
   ],
   "metadata": {
    "collapsed": false
   }
  },
  {
   "cell_type": "code",
   "execution_count": null,
   "outputs": [],
   "source": [
    "X_cols=df3.columns.drop(['formula','ZT','composition'])\n",
    "X=df3[X_cols]\n",
    "Y=df3['ZT']\n",
    "train_inf = np.isinf(X)\n",
    "X[train_inf]=0"
   ],
   "metadata": {
    "collapsed": false
   }
  },
  {
   "cell_type": "code",
   "execution_count": null,
   "outputs": [],
   "source": [
    "# scaler=MinMaxScaler()\n",
    "# X_scaled=scaler.fit_transform(X)\n",
    "# scaler2=MinMaxScaler()\n",
    "# Y_scaled=scaler2.fit_transform(Y.values.reshape(-1,1))\n",
    "\n",
    "x_train,x_test,y_train,y_test=train_test_split(X,Y.values,shuffle=True,random_state=123)\n",
    "print(x_train.shape,y_train.shape)\n",
    "print(type(x_train),type(y_train))"
   ],
   "metadata": {
    "collapsed": false
   }
  },
  {
   "cell_type": "code",
   "execution_count": null,
   "outputs": [],
   "source": [],
   "metadata": {
    "collapsed": false
   }
  }
 ],
 "metadata": {
  "kernelspec": {
   "display_name": "Python 3",
   "language": "python",
   "name": "python3"
  },
  "language_info": {
   "codemirror_mode": {
    "name": "ipython",
    "version": 2
   },
   "file_extension": ".py",
   "mimetype": "text/x-python",
   "name": "python",
   "nbconvert_exporter": "python",
   "pygments_lexer": "ipython2",
   "version": "2.7.6"
  }
 },
 "nbformat": 4,
 "nbformat_minor": 0
}
